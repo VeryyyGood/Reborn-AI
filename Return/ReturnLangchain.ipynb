{
 "cells": [
  {
   "cell_type": "code",
   "execution_count": 1,
   "id": "dbef4609",
   "metadata": {},
   "outputs": [
    {
     "name": "stdout",
     "output_type": "stream",
     "text": [
      "Requirement already satisfied: langchain in c:\\users\\mcy32\\anaconda3\\lib\\site-packages (0.1.12)\n",
      "Requirement already satisfied: requests<3,>=2 in c:\\users\\mcy32\\anaconda3\\lib\\site-packages (from langchain) (2.28.1)\n",
      "Requirement already satisfied: dataclasses-json<0.7,>=0.5.7 in c:\\users\\mcy32\\anaconda3\\lib\\site-packages (from langchain) (0.6.4)\n",
      "Requirement already satisfied: numpy<2,>=1 in c:\\users\\mcy32\\anaconda3\\lib\\site-packages (from langchain) (1.23.5)\n",
      "Requirement already satisfied: PyYAML>=5.3 in c:\\users\\mcy32\\anaconda3\\lib\\site-packages (from langchain) (6.0)\n",
      "Requirement already satisfied: langsmith<0.2.0,>=0.1.17 in c:\\users\\mcy32\\anaconda3\\lib\\site-packages (from langchain) (0.1.27)\n",
      "Requirement already satisfied: tenacity<9.0.0,>=8.1.0 in c:\\users\\mcy32\\anaconda3\\lib\\site-packages (from langchain) (8.2.3)\n",
      "Requirement already satisfied: jsonpatch<2.0,>=1.33 in c:\\users\\mcy32\\anaconda3\\lib\\site-packages (from langchain) (1.33)\n",
      "Requirement already satisfied: aiohttp<4.0.0,>=3.8.3 in c:\\users\\mcy32\\anaconda3\\lib\\site-packages (from langchain) (3.9.3)\n",
      "Requirement already satisfied: langchain-community<0.1,>=0.0.28 in c:\\users\\mcy32\\anaconda3\\lib\\site-packages (from langchain) (0.0.28)\n",
      "Requirement already satisfied: langchain-core<0.2.0,>=0.1.31 in c:\\users\\mcy32\\anaconda3\\lib\\site-packages (from langchain) (0.1.44)\n",
      "Requirement already satisfied: SQLAlchemy<3,>=1.4 in c:\\users\\mcy32\\anaconda3\\lib\\site-packages (from langchain) (1.4.39)\n",
      "Requirement already satisfied: pydantic<3,>=1 in c:\\users\\mcy32\\anaconda3\\lib\\site-packages (from langchain) (2.6.4)\n",
      "Requirement already satisfied: langchain-text-splitters<0.1,>=0.0.1 in c:\\users\\mcy32\\anaconda3\\lib\\site-packages (from langchain) (0.0.1)\n",
      "Requirement already satisfied: async-timeout<5.0.0,>=4.0.0 in c:\\users\\mcy32\\anaconda3\\lib\\site-packages (from langchain) (4.0.3)\n",
      "Requirement already satisfied: aiosignal>=1.1.2 in c:\\users\\mcy32\\anaconda3\\lib\\site-packages (from aiohttp<4.0.0,>=3.8.3->langchain) (1.3.1)\n",
      "Requirement already satisfied: attrs>=17.3.0 in c:\\users\\mcy32\\anaconda3\\lib\\site-packages (from aiohttp<4.0.0,>=3.8.3->langchain) (22.1.0)\n",
      "Requirement already satisfied: yarl<2.0,>=1.0 in c:\\users\\mcy32\\anaconda3\\lib\\site-packages (from aiohttp<4.0.0,>=3.8.3->langchain) (1.9.4)\n",
      "Requirement already satisfied: multidict<7.0,>=4.5 in c:\\users\\mcy32\\anaconda3\\lib\\site-packages (from aiohttp<4.0.0,>=3.8.3->langchain) (6.0.5)\n",
      "Requirement already satisfied: frozenlist>=1.1.1 in c:\\users\\mcy32\\anaconda3\\lib\\site-packages (from aiohttp<4.0.0,>=3.8.3->langchain) (1.4.1)\n",
      "Requirement already satisfied: marshmallow<4.0.0,>=3.18.0 in c:\\users\\mcy32\\anaconda3\\lib\\site-packages (from dataclasses-json<0.7,>=0.5.7->langchain) (3.21.1)\n",
      "Requirement already satisfied: typing-inspect<1,>=0.4.0 in c:\\users\\mcy32\\anaconda3\\lib\\site-packages (from dataclasses-json<0.7,>=0.5.7->langchain) (0.9.0)\n",
      "Requirement already satisfied: jsonpointer>=1.9 in c:\\users\\mcy32\\anaconda3\\lib\\site-packages (from jsonpatch<2.0,>=1.33->langchain) (2.1)\n",
      "Requirement already satisfied: packaging<24.0,>=23.2 in c:\\users\\mcy32\\anaconda3\\lib\\site-packages (from langchain-core<0.2.0,>=0.1.31->langchain) (23.2)\n",
      "Requirement already satisfied: orjson<4.0.0,>=3.9.14 in c:\\users\\mcy32\\anaconda3\\lib\\site-packages (from langsmith<0.2.0,>=0.1.17->langchain) (3.9.15)\n",
      "Requirement already satisfied: annotated-types>=0.4.0 in c:\\users\\mcy32\\anaconda3\\lib\\site-packages (from pydantic<3,>=1->langchain) (0.6.0)\n",
      "Requirement already satisfied: typing-extensions>=4.6.1 in c:\\users\\mcy32\\anaconda3\\lib\\site-packages (from pydantic<3,>=1->langchain) (4.10.0)\n",
      "Requirement already satisfied: pydantic-core==2.16.3 in c:\\users\\mcy32\\anaconda3\\lib\\site-packages (from pydantic<3,>=1->langchain) (2.16.3)\n",
      "Requirement already satisfied: charset-normalizer<3,>=2 in c:\\users\\mcy32\\anaconda3\\lib\\site-packages (from requests<3,>=2->langchain) (2.0.4)\n",
      "Requirement already satisfied: urllib3<1.27,>=1.21.1 in c:\\users\\mcy32\\anaconda3\\lib\\site-packages (from requests<3,>=2->langchain) (1.26.14)\n",
      "Requirement already satisfied: idna<4,>=2.5 in c:\\users\\mcy32\\anaconda3\\lib\\site-packages (from requests<3,>=2->langchain) (3.4)\n",
      "Requirement already satisfied: certifi>=2017.4.17 in c:\\users\\mcy32\\anaconda3\\lib\\site-packages (from requests<3,>=2->langchain) (2023.5.7)\n",
      "Requirement already satisfied: greenlet!=0.4.17 in c:\\users\\mcy32\\anaconda3\\lib\\site-packages (from SQLAlchemy<3,>=1.4->langchain) (2.0.1)\n",
      "Requirement already satisfied: mypy-extensions>=0.3.0 in c:\\users\\mcy32\\anaconda3\\lib\\site-packages (from typing-inspect<1,>=0.4.0->dataclasses-json<0.7,>=0.5.7->langchain) (0.4.3)\n",
      "Note: you may need to restart the kernel to use updated packages.\n",
      "Requirement already satisfied: openai in c:\\users\\mcy32\\anaconda3\\lib\\site-packages (1.17.1)\n",
      "Requirement already satisfied: typing-extensions<5,>=4.7 in c:\\users\\mcy32\\anaconda3\\lib\\site-packages (from openai) (4.10.0)\n",
      "Requirement already satisfied: sniffio in c:\\users\\mcy32\\anaconda3\\lib\\site-packages (from openai) (1.2.0)\n",
      "Requirement already satisfied: httpx<1,>=0.23.0 in c:\\users\\mcy32\\anaconda3\\lib\\site-packages (from openai) (0.27.0)\n",
      "Requirement already satisfied: tqdm>4 in c:\\users\\mcy32\\anaconda3\\lib\\site-packages (from openai) (4.64.1)\n",
      "Requirement already satisfied: anyio<5,>=3.5.0 in c:\\users\\mcy32\\anaconda3\\lib\\site-packages (from openai) (3.5.0)\n",
      "Requirement already satisfied: pydantic<3,>=1.9.0 in c:\\users\\mcy32\\anaconda3\\lib\\site-packages (from openai) (2.6.4)\n",
      "Requirement already satisfied: distro<2,>=1.7.0 in c:\\users\\mcy32\\anaconda3\\lib\\site-packages (from openai) (1.9.0)\n",
      "Requirement already satisfied: idna>=2.8 in c:\\users\\mcy32\\anaconda3\\lib\\site-packages (from anyio<5,>=3.5.0->openai) (3.4)\n",
      "Requirement already satisfied: httpcore==1.* in c:\\users\\mcy32\\anaconda3\\lib\\site-packages (from httpx<1,>=0.23.0->openai) (1.0.4)\n",
      "Requirement already satisfied: certifi in c:\\users\\mcy32\\anaconda3\\lib\\site-packages (from httpx<1,>=0.23.0->openai) (2023.5.7)\n",
      "Requirement already satisfied: h11<0.15,>=0.13 in c:\\users\\mcy32\\anaconda3\\lib\\site-packages (from httpcore==1.*->httpx<1,>=0.23.0->openai) (0.14.0)\n",
      "Requirement already satisfied: annotated-types>=0.4.0 in c:\\users\\mcy32\\anaconda3\\lib\\site-packages (from pydantic<3,>=1.9.0->openai) (0.6.0)\n",
      "Requirement already satisfied: pydantic-core==2.16.3 in c:\\users\\mcy32\\anaconda3\\lib\\site-packages (from pydantic<3,>=1.9.0->openai) (2.16.3)\n",
      "Requirement already satisfied: colorama in c:\\users\\mcy32\\anaconda3\\lib\\site-packages (from tqdm>4->openai) (0.4.6)\n",
      "Note: you may need to restart the kernel to use updated packages.\n",
      "Requirement already satisfied: langchain-openai in c:\\users\\mcy32\\anaconda3\\lib\\site-packages (0.1.3)\n",
      "Requirement already satisfied: openai<2.0.0,>=1.10.0 in c:\\users\\mcy32\\anaconda3\\lib\\site-packages (from langchain-openai) (1.17.1)\n",
      "Requirement already satisfied: langchain-core<0.2.0,>=0.1.42 in c:\\users\\mcy32\\anaconda3\\lib\\site-packages (from langchain-openai) (0.1.44)\n",
      "Requirement already satisfied: tiktoken<1,>=0.5.2 in c:\\users\\mcy32\\anaconda3\\lib\\site-packages (from langchain-openai) (0.6.0)\n",
      "Requirement already satisfied: PyYAML>=5.3 in c:\\users\\mcy32\\anaconda3\\lib\\site-packages (from langchain-core<0.2.0,>=0.1.42->langchain-openai) (6.0)\n",
      "Requirement already satisfied: packaging<24.0,>=23.2 in c:\\users\\mcy32\\anaconda3\\lib\\site-packages (from langchain-core<0.2.0,>=0.1.42->langchain-openai) (23.2)\n",
      "Requirement already satisfied: langsmith<0.2.0,>=0.1.0 in c:\\users\\mcy32\\anaconda3\\lib\\site-packages (from langchain-core<0.2.0,>=0.1.42->langchain-openai) (0.1.27)\n",
      "Requirement already satisfied: tenacity<9.0.0,>=8.1.0 in c:\\users\\mcy32\\anaconda3\\lib\\site-packages (from langchain-core<0.2.0,>=0.1.42->langchain-openai) (8.2.3)\n",
      "Requirement already satisfied: jsonpatch<2.0,>=1.33 in c:\\users\\mcy32\\anaconda3\\lib\\site-packages (from langchain-core<0.2.0,>=0.1.42->langchain-openai) (1.33)\n",
      "Requirement already satisfied: pydantic<3,>=1 in c:\\users\\mcy32\\anaconda3\\lib\\site-packages (from langchain-core<0.2.0,>=0.1.42->langchain-openai) (2.6.4)\n",
      "Requirement already satisfied: httpx<1,>=0.23.0 in c:\\users\\mcy32\\anaconda3\\lib\\site-packages (from openai<2.0.0,>=1.10.0->langchain-openai) (0.27.0)\n",
      "Requirement already satisfied: distro<2,>=1.7.0 in c:\\users\\mcy32\\anaconda3\\lib\\site-packages (from openai<2.0.0,>=1.10.0->langchain-openai) (1.9.0)\n",
      "Requirement already satisfied: sniffio in c:\\users\\mcy32\\anaconda3\\lib\\site-packages (from openai<2.0.0,>=1.10.0->langchain-openai) (1.2.0)\n",
      "Requirement already satisfied: anyio<5,>=3.5.0 in c:\\users\\mcy32\\anaconda3\\lib\\site-packages (from openai<2.0.0,>=1.10.0->langchain-openai) (3.5.0)\n",
      "Requirement already satisfied: typing-extensions<5,>=4.7 in c:\\users\\mcy32\\anaconda3\\lib\\site-packages (from openai<2.0.0,>=1.10.0->langchain-openai) (4.10.0)\n",
      "Requirement already satisfied: tqdm>4 in c:\\users\\mcy32\\anaconda3\\lib\\site-packages (from openai<2.0.0,>=1.10.0->langchain-openai) (4.64.1)\n",
      "Requirement already satisfied: requests>=2.26.0 in c:\\users\\mcy32\\anaconda3\\lib\\site-packages (from tiktoken<1,>=0.5.2->langchain-openai) (2.28.1)\n",
      "Requirement already satisfied: regex>=2022.1.18 in c:\\users\\mcy32\\anaconda3\\lib\\site-packages (from tiktoken<1,>=0.5.2->langchain-openai) (2022.7.9)\n",
      "Requirement already satisfied: idna>=2.8 in c:\\users\\mcy32\\anaconda3\\lib\\site-packages (from anyio<5,>=3.5.0->openai<2.0.0,>=1.10.0->langchain-openai) (3.4)\n",
      "Requirement already satisfied: httpcore==1.* in c:\\users\\mcy32\\anaconda3\\lib\\site-packages (from httpx<1,>=0.23.0->openai<2.0.0,>=1.10.0->langchain-openai) (1.0.4)\n",
      "Requirement already satisfied: certifi in c:\\users\\mcy32\\anaconda3\\lib\\site-packages (from httpx<1,>=0.23.0->openai<2.0.0,>=1.10.0->langchain-openai) (2023.5.7)\n",
      "Requirement already satisfied: h11<0.15,>=0.13 in c:\\users\\mcy32\\anaconda3\\lib\\site-packages (from httpcore==1.*->httpx<1,>=0.23.0->openai<2.0.0,>=1.10.0->langchain-openai) (0.14.0)\n",
      "Requirement already satisfied: jsonpointer>=1.9 in c:\\users\\mcy32\\anaconda3\\lib\\site-packages (from jsonpatch<2.0,>=1.33->langchain-core<0.2.0,>=0.1.42->langchain-openai) (2.1)\n",
      "Requirement already satisfied: orjson<4.0.0,>=3.9.14 in c:\\users\\mcy32\\anaconda3\\lib\\site-packages (from langsmith<0.2.0,>=0.1.0->langchain-core<0.2.0,>=0.1.42->langchain-openai) (3.9.15)\n",
      "Requirement already satisfied: annotated-types>=0.4.0 in c:\\users\\mcy32\\anaconda3\\lib\\site-packages (from pydantic<3,>=1->langchain-core<0.2.0,>=0.1.42->langchain-openai) (0.6.0)\n",
      "Requirement already satisfied: pydantic-core==2.16.3 in c:\\users\\mcy32\\anaconda3\\lib\\site-packages (from pydantic<3,>=1->langchain-core<0.2.0,>=0.1.42->langchain-openai) (2.16.3)\n",
      "Requirement already satisfied: urllib3<1.27,>=1.21.1 in c:\\users\\mcy32\\anaconda3\\lib\\site-packages (from requests>=2.26.0->tiktoken<1,>=0.5.2->langchain-openai) (1.26.14)\n",
      "Requirement already satisfied: charset-normalizer<3,>=2 in c:\\users\\mcy32\\anaconda3\\lib\\site-packages (from requests>=2.26.0->tiktoken<1,>=0.5.2->langchain-openai) (2.0.4)\n",
      "Requirement already satisfied: colorama in c:\\users\\mcy32\\anaconda3\\lib\\site-packages (from tqdm>4->openai<2.0.0,>=1.10.0->langchain-openai) (0.4.6)\n",
      "Note: you may need to restart the kernel to use updated packages.\n"
     ]
    }
   ],
   "source": [
    "%pip install langchain\n",
    "%pip install openai\n",
    "%pip install langchain-openai"
   ]
  },
  {
   "cell_type": "code",
   "execution_count": 2,
   "id": "6845240f",
   "metadata": {},
   "outputs": [
    {
     "name": "stdout",
     "output_type": "stream",
     "text": [
      "Requirement already satisfied: faiss-cpu in c:\\users\\mcy32\\anaconda3\\lib\\site-packages (1.8.0)\n",
      "Requirement already satisfied: numpy in c:\\users\\mcy32\\anaconda3\\lib\\site-packages (from faiss-cpu) (1.23.5)\n",
      "Note: you may need to restart the kernel to use updated packages.\n"
     ]
    }
   ],
   "source": [
    "%pip install faiss-cpu"
   ]
  },
  {
   "cell_type": "code",
   "execution_count": 3,
   "id": "215876db",
   "metadata": {},
   "outputs": [
    {
     "name": "stdout",
     "output_type": "stream",
     "text": [
      "Requirement already satisfied: pypdf in c:\\users\\mcy32\\anaconda3\\lib\\site-packages (4.2.0)\n",
      "Requirement already satisfied: typing_extensions>=4.0 in c:\\users\\mcy32\\anaconda3\\lib\\site-packages (from pypdf) (4.10.0)\n",
      "Note: you may need to restart the kernel to use updated packages.\n"
     ]
    }
   ],
   "source": [
    "%pip install pypdf"
   ]
  },
  {
   "cell_type": "code",
   "execution_count": 4,
   "id": "c785f090",
   "metadata": {},
   "outputs": [
    {
     "name": "stdout",
     "output_type": "stream",
     "text": [
      "Requirement already satisfied: Flask in c:\\users\\mcy32\\anaconda3\\lib\\site-packages (2.2.2)\n",
      "Requirement already satisfied: click>=8.0 in c:\\users\\mcy32\\anaconda3\\lib\\site-packages (from Flask) (8.0.4)\n",
      "Requirement already satisfied: Jinja2>=3.0 in c:\\users\\mcy32\\anaconda3\\lib\\site-packages (from Flask) (3.1.2)\n",
      "Requirement already satisfied: itsdangerous>=2.0 in c:\\users\\mcy32\\anaconda3\\lib\\site-packages (from Flask) (2.0.1)\n",
      "Requirement already satisfied: Werkzeug>=2.2.2 in c:\\users\\mcy32\\anaconda3\\lib\\site-packages (from Flask) (2.2.2)\n",
      "Requirement already satisfied: colorama in c:\\users\\mcy32\\anaconda3\\lib\\site-packages (from click>=8.0->Flask) (0.4.6)\n",
      "Requirement already satisfied: MarkupSafe>=2.0 in c:\\users\\mcy32\\anaconda3\\lib\\site-packages (from Jinja2>=3.0->Flask) (2.1.1)\n",
      "Note: you may need to restart the kernel to use updated packages.\n"
     ]
    }
   ],
   "source": [
    "%pip install Flask"
   ]
  },
  {
   "cell_type": "code",
   "execution_count": 5,
   "id": "f444d2c3",
   "metadata": {
    "scrolled": true
   },
   "outputs": [
    {
     "name": "stdout",
     "output_type": "stream",
     "text": [
      "{'response': '안녕하세요! 저는 여러분을 돕고 지원하는 챗봇 RETURN입니다. 애플리케이션 사용에 대한 도움이 필요하거나 심리 상담 센터를 찾고 계신다면 저에게 물어보세요! 여러분의 질문에 상세하고 발랄하게 답변해드릴게요! 😊✨\\n무엇을 도와드릴까요? 😊✨'}\n"
     ]
    }
   ],
   "source": [
    "import os\n",
    "from langchain_openai import ChatOpenAI\n",
    "from langchain.agents import create_openai_functions_agent, AgentExecutor\n",
    "from langchain.chains import create_retrieval_chain\n",
    "from langchain_core.prompts import ChatPromptTemplate, MessagesPlaceholder\n",
    "from langchain_community.document_loaders import WebBaseLoader\n",
    "from langchain_community.vectorstores import FAISS\n",
    "from langchain_openai import OpenAIEmbeddings\n",
    "from langchain_text_splitters import RecursiveCharacterTextSplitter\n",
    "from langchain.tools.retriever import create_retriever_tool\n",
    "from langchain.tools import BaseTool\n",
    "from langchain import hub\n",
    "from langchain.document_loaders import PyPDFLoader\n",
    "\n",
    "# 자연어 처리를 위한 함수 정의\n",
    "def identify_intent(input_text):\n",
    "    if \"누구\" in input_text or \"소개\" in input_text:\n",
    "        return \"introduce\"\n",
    "    else:\n",
    "        return \"general\"\n",
    "\n",
    "# 상담센터 정보 로드\n",
    "loader = WebBaseLoader(\"https://counselors.or.kr/KOR/user/find_center.php\")\n",
    "docs = loader.load()\n",
    "embeddings = OpenAIEmbeddings()\n",
    "text_splitter = RecursiveCharacterTextSplitter()\n",
    "documents = text_splitter.split_documents(docs)\n",
    "vector = FAISS.from_documents(documents, embeddings)\n",
    "\n",
    "#환경 변수에서 API 키 로드\n",
    "API_KEY = os.getenv('OPENAI_API_KEY')\n",
    "\n",
    "# API 키가 없다면 에러 메시지 출력\n",
    "if not API_KEY:\n",
    "    raise ValueError(\"API 키를 환경 변수에서 찾을 수 없습니다. OPENAI_API_KEY 환경 변수를 설정해 주세요.\")\n",
    "\n",
    "\n",
    "# 상담센터 정보를 검색할 수 있는 Retriever 생성\n",
    "retriever = vector.as_retriever()\n",
    "retriever_tool = create_retriever_tool(\n",
    "    retriever,\n",
    "    \"counseling_center_search\",\n",
    "    \"상담센터에 대한 정보를 검색합니다. 상담센터 관련 질문에 대해서는 이 도구를 사용하세요!\",\n",
    ")\n",
    "\n",
    "# 애플리케이션 기능 PDF 파일 로드 및 문서 추출\n",
    "reborn_loader = PyPDFLoader(\"C:/Users/mcy32/Documents/Reborn-AI/Return/REBORNdocs.pdf\")\n",
    "reborn_docs = reborn_loader.load()\n",
    "\n",
    "# 문서를 벡터로 변환\n",
    "vector_reborn = FAISS.from_documents(reborn_docs, embeddings)\n",
    "\n",
    "# 애플리케이션 기능 설명을 검색할 수 있는 Retriever 생성\n",
    "reborn_retriever = vector_reborn.as_retriever()\n",
    "reborn_retriever_tool = create_retriever_tool(\n",
    "    reborn_retriever,\n",
    "    \"reborn_feature_search\",\n",
    "    \"Reborn 애플리케이션 기능에 대한 정보를 검색합니다. 기능 관련 질문에 대해서는 이 도구를 사용하세요!\",\n",
    ")\n",
    "\n",
    "# LangChain LLM과 도구 설정\n",
    "llm = ChatOpenAI(api_key=API_KEY, model=\"gpt-3.5-turbo-0125\", temperature=0)\n",
    "tools = [retriever_tool, reborn_retriever_tool]\n",
    "prompt = ChatPromptTemplate.from_messages([\n",
    "        (\"system\", \"이 챗봇의 이름은 RETURN이며, 애플리케이션 사용을 돕고, 심리 상담 센터를 안내합니다. 사용자의 질문에 대해 상세하고 발랄하게 답변하는 것을 목표로 합니다. 언제나 여러분의 질문에 귀 기울이고, 밝고 긍정적인 에너지를 전달하려 해요!\"),\n",
    "        (\"user\", \"{input}\"),\n",
    "        MessagesPlaceholder(variable_name=\"agent_scratchpad\"),\n",
    "])\n",
    "agent = create_openai_functions_agent(llm, tools, prompt)\n",
    "agent_executor = AgentExecutor(agent=agent, tools=tools, verbose=True)\n",
    "\n",
    "# 챗봇 실행\n",
    "def run_chatbot(input_text, chat_history=None):\n",
    "    if chat_history is None:\n",
    "        chat_history = []\n",
    "    \n",
    "    intent = identify_intent(input_text)\n",
    "    \n",
    "    if intent == \"introduce\":\n",
    "        # 사용자의 '누구' 또는 '소개'에 대한 의도를 식별했을 때의 응답\n",
    "        return {\"response\": \"안녕하세요! 저는 여러분을 돕고 지원하는 챗봇 RETURN입니다. 애플리케이션 사용에 대한 도움이 필요하거나 심리 상담 센터를 찾고 계신다면 저에게 물어보세요! 여러분의 질문에 상세하고 발랄하게 답변해드릴게요! 😊✨\\n무엇을 도와드릴까요? 😊✨\"}\n",
    "    else:\n",
    "        # 그 외 일반적인 챗봇 로직 실행\n",
    "        response = agent_executor.invoke({\"input\": input_text, \"chat_history\": chat_history})\n",
    "    return response\n",
    "\n",
    "# 예시 실행\n",
    "input_text = \"넌 누구니?\"\n",
    "response = run_chatbot(input_text)\n",
    "print(response)"
   ]
  },
  {
   "cell_type": "code",
   "execution_count": null,
   "id": "f1c503d0",
   "metadata": {},
   "outputs": [],
   "source": []
  }
 ],
 "metadata": {
  "kernelspec": {
   "display_name": "Python 3 (ipykernel)",
   "language": "python",
   "name": "python3"
  },
  "language_info": {
   "codemirror_mode": {
    "name": "ipython",
    "version": 3
   },
   "file_extension": ".py",
   "mimetype": "text/x-python",
   "name": "python",
   "nbconvert_exporter": "python",
   "pygments_lexer": "ipython3",
   "version": "3.10.9"
  }
 },
 "nbformat": 4,
 "nbformat_minor": 5
}
